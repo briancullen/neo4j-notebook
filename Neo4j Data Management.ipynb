{
 "cells": [
  {
   "cell_type": "markdown",
   "metadata": {},
   "source": [
    "# Graph Databases for Device Management\n"
   ]
  },
  {
   "cell_type": "markdown",
   "metadata": {},
   "source": [
    "## Introduction\n",
    "Most of us are very familiar with the structure of relational databases and how to model data for it. However schemas developed for relational databases tend to become complicated and resistant to change. In addition as more tables are added to a schema the joins required for both reads and writes become more complicated which slows down database operations.\n",
    "\n",
    "One solution to this problem is the use of document store databases, such as DynamoDB. These databases tend to be schemaless making it easier to change the data stored as requirements evolve. In addition a common principal of many of these databases is that you should be able to get all the information you require in a single read operation which often requires you to carefully consider the indexes you create and denormalise your data to model relationships. While denormalising data does make reading easier it does create difficulty in ensuring consistency during write operations.\n",
    "\n",
    "In general relational databases, as their names suggest, are good at modelling the relationships between different pieces of data and performing adhoc queries although the complexity of these relationship increases the length of time these operation take. Document store databases on the other hand tend to be very fast to find individual documents but the modelling of relationship is an acquired skill that becomes increasingly complicated as the types of relationships increase.\n",
    "\n",
    "This all struck me as a little like the Goldilocks principal, one is too hot and the other too cold, so where is the \"just right\" solution? So I decide to have a look at graph databases to see if they might be a better solution.\n"
   ]
  },
  {
   "cell_type": "markdown",
   "metadata": {},
   "source": [
    "## Context\n",
    "For the purposes of this discussion we will be considering how to implement a database to hold data about computing devices that are located at a particular location and can be owned and managed by different organisations.\n",
    "\n",
    "It should be stated from the outset that this is not really a complicated or large domain, in fact you could probably store all the data in a csv file and still get acceptable performance, but it will allow us to identify some of the features of graph databases that are useful.\n",
    "\n",
    "### Requirements\n",
    "As always with development knowing the requirements we are trying to meet is essential. Listed below are some of the requirements that I have identified for this domain.\n",
    "\n",
    "1. Be able to find an individual device.\n",
    "2. Be able to find all devices at a given location.\n",
    "3. Find all devices for the sites associated with an organisation.\n",
    "4. Be able to find all devices with a particular status.\n",
    "5. Find all devices of a particular type."
   ]
  },
  {
   "cell_type": "markdown",
   "metadata": {},
   "source": [
    "## The Database\n",
    "For the examples in this notebook we will be using Neo4j. You can download the Neo4j desktop application from their [website](https://neo4j.com/download-center/). This application will allow you to create a local database to try things out. There is a AWS graph database service available, called Neptune, but as there doesn't seem to be any free tier available on the service it was decided not to use that at this stage. All code examples in this document are in Python. However Neo4j itself is a Java application and client libraries are available in a number of different languages, including Javascript.\n",
    "\n",
    "Once you have a Neo4j installed you can start a local database and connect to it as shown below."
   ]
  },
  {
   "cell_type": "code",
   "execution_count": 1,
   "metadata": {},
   "outputs": [],
   "source": [
    "from neo4j import GraphDatabase, Node\n",
    "from pandas import DataFrame, read_csv\n",
    "from scripts.vis import draw\n",
    "\n",
    "driver = GraphDatabase.driver(\"bolt://localhost:7687\", auth=(\"neo4j\", \"password\"), encrypted=False)"
   ]
  },
  {
   "cell_type": "markdown",
   "metadata": {},
   "source": [
    "## Requirement - Find an Individual Device\n",
    "\n",
    "Assuming we are starting with a blank database the first order of business is to put some device data into the graph. Like DynamoDB and other Document Store databases the nodes in a Neo4j database as schemaless, that is the information stored in two different nodes that are labelled as a device does not need to be the same.\n",
    "\n",
    "This make things easy for us when we are starting as we don't need to try and capture all the information we require at the outset, rather we can put in the essential information now and easily add further information at a later stage."
   ]
  },
  {
   "cell_type": "code",
   "execution_count": 2,
   "metadata": {},
   "outputs": [
    {
     "data": {
      "text/html": [
       "<div>\n",
       "<style scoped>\n",
       "    .dataframe tbody tr th:only-of-type {\n",
       "        vertical-align: middle;\n",
       "    }\n",
       "\n",
       "    .dataframe tbody tr th {\n",
       "        vertical-align: top;\n",
       "    }\n",
       "\n",
       "    .dataframe thead th {\n",
       "        text-align: right;\n",
       "    }\n",
       "</style>\n",
       "<table border=\"1\" class=\"dataframe\">\n",
       "  <thead>\n",
       "    <tr style=\"text-align: right;\">\n",
       "      <th></th>\n",
       "      <th>id</th>\n",
       "      <th>name</th>\n",
       "      <th>type</th>\n",
       "    </tr>\n",
       "  </thead>\n",
       "  <tbody>\n",
       "    <tr>\n",
       "      <th>0</th>\n",
       "      <td>000000000000</td>\n",
       "      <td>Device 1A</td>\n",
       "      <td>IntelPC</td>\n",
       "    </tr>\n",
       "  </tbody>\n",
       "</table>\n",
       "</div>"
      ],
      "text/plain": [
       "             id       name     type\n",
       "0  000000000000  Device 1A  IntelPC"
      ]
     },
     "metadata": {},
     "output_type": "display_data"
    }
   ],
   "source": [
    "# Create a device and print the newly created node out.\n",
    "device = {\n",
    "    'id': '000000000000',\n",
    "    'type': 'IntelPC',\n",
    "    'name': 'Device 1A'\n",
    "}\n",
    "\n",
    "def create_device(tx, device):\n",
    "    result = tx.run(\"CREATE (a:Device) \"\n",
    "                    \"SET a = $device \"\n",
    "                    \"RETURN a\", device=device)\n",
    "    return result.single()\n",
    "\n",
    "with driver.session() as session:\n",
    "    device = session.write_transaction(create_device, device)\n",
    "    dataFrame = DataFrame.from_records(device)\n",
    "    display(dataFrame)"
   ]
  },
  {
   "cell_type": "markdown",
   "metadata": {},
   "source": [
    "Woooh... we have created our first node in the database. Obviously we are going to need to add a few more to make things more interesting but first it is worth stopping to consider the access patterns are going to have here. In particular we are going to be searching by device id an awful lot so to help speed those queries up and prevent duplicates we can tell Neo4j to treat that field a little differently.\n",
    "\n",
    "In this case we aren't actually creating an index on this field directly but by placing a uniqueness constraint on the field an index is automatically created."
   ]
  },
  {
   "cell_type": "code",
   "execution_count": 3,
   "metadata": {},
   "outputs": [],
   "source": [
    "with driver.session() as session:\n",
    "    session.run(\"CREATE CONSTRAINT device_id \"\n",
    "                \"ON (device:Device) ASSERT device.id IS UNIQUE\")"
   ]
  },
  {
   "cell_type": "markdown",
   "metadata": {},
   "source": [
    "Now that we have created an index and a single device lets just make sure that we can read it back out of the database using a query."
   ]
  },
  {
   "cell_type": "code",
   "execution_count": 4,
   "metadata": {},
   "outputs": [
    {
     "data": {
      "text/html": [
       "<div>\n",
       "<style scoped>\n",
       "    .dataframe tbody tr th:only-of-type {\n",
       "        vertical-align: middle;\n",
       "    }\n",
       "\n",
       "    .dataframe tbody tr th {\n",
       "        vertical-align: top;\n",
       "    }\n",
       "\n",
       "    .dataframe thead th {\n",
       "        text-align: right;\n",
       "    }\n",
       "</style>\n",
       "<table border=\"1\" class=\"dataframe\">\n",
       "  <thead>\n",
       "    <tr style=\"text-align: right;\">\n",
       "      <th></th>\n",
       "      <th>id</th>\n",
       "      <th>name</th>\n",
       "      <th>type</th>\n",
       "    </tr>\n",
       "  </thead>\n",
       "  <tbody>\n",
       "    <tr>\n",
       "      <th>0</th>\n",
       "      <td>000000000000</td>\n",
       "      <td>Device 1A</td>\n",
       "      <td>IntelPC</td>\n",
       "    </tr>\n",
       "  </tbody>\n",
       "</table>\n",
       "</div>"
      ],
      "text/plain": [
       "             id       name     type\n",
       "0  000000000000  Device 1A  IntelPC"
      ]
     },
     "metadata": {},
     "output_type": "display_data"
    }
   ],
   "source": [
    "def get_device_by_id(tx, deviceId):\n",
    "    devices = tx.run(\"MATCH (device: Device) \"\n",
    "                         \"WHERE device.id = $id \"\n",
    "                         \"RETURN device\", id=deviceId)\n",
    "    return [ data[0] for data in devices ]\n",
    "\n",
    "with driver.session() as session:\n",
    "    result = session.read_transaction(get_device_by_id, \"000000000000\")\n",
    "    dataFrame = DataFrame.from_records(result)\n",
    "    display(dataFrame)"
   ]
  },
  {
   "cell_type": "markdown",
   "metadata": {},
   "source": [
    "### Requirement - Find Device at a Given Location\n",
    "\n",
    "Ok so we aren't exactly sticking to an order here but to a large extent the advantages of a graph database are related to it's modelling of relationships so I wanted to get to them sooner rather than later. For this section we are going to clear the database and add the sample data shown below."
   ]
  },
  {
   "cell_type": "code",
   "execution_count": 5,
   "metadata": {},
   "outputs": [
    {
     "data": {
      "text/html": [
       "<div>\n",
       "<style scoped>\n",
       "    .dataframe tbody tr th:only-of-type {\n",
       "        vertical-align: middle;\n",
       "    }\n",
       "\n",
       "    .dataframe tbody tr th {\n",
       "        vertical-align: top;\n",
       "    }\n",
       "\n",
       "    .dataframe thead th {\n",
       "        text-align: right;\n",
       "    }\n",
       "</style>\n",
       "<table border=\"1\" class=\"dataframe\">\n",
       "  <thead>\n",
       "    <tr style=\"text-align: right;\">\n",
       "      <th></th>\n",
       "      <th>id</th>\n",
       "      <th>name</th>\n",
       "      <th>type</th>\n",
       "    </tr>\n",
       "  </thead>\n",
       "  <tbody>\n",
       "    <tr>\n",
       "      <th>0</th>\n",
       "      <td>800000000000</td>\n",
       "      <td>Device 1A</td>\n",
       "      <td>Intel</td>\n",
       "    </tr>\n",
       "    <tr>\n",
       "      <th>1</th>\n",
       "      <td>800000000001</td>\n",
       "      <td>Device 1B</td>\n",
       "      <td>Intel</td>\n",
       "    </tr>\n",
       "    <tr>\n",
       "      <th>2</th>\n",
       "      <td>800000000002</td>\n",
       "      <td>RaspberryPi 1A</td>\n",
       "      <td>RaspberryPi</td>\n",
       "    </tr>\n",
       "    <tr>\n",
       "      <th>3</th>\n",
       "      <td>800000000003</td>\n",
       "      <td>RaspberryPi 2B</td>\n",
       "      <td>RaspberryPi</td>\n",
       "    </tr>\n",
       "    <tr>\n",
       "      <th>4</th>\n",
       "      <td>800000000004</td>\n",
       "      <td>Compact 1A</td>\n",
       "      <td>Apple</td>\n",
       "    </tr>\n",
       "    <tr>\n",
       "      <th>5</th>\n",
       "      <td>800000000005</td>\n",
       "      <td>Compact 2B</td>\n",
       "      <td>Apple</td>\n",
       "    </tr>\n",
       "    <tr>\n",
       "      <th>6</th>\n",
       "      <td>800000000006</td>\n",
       "      <td>Embedded 1</td>\n",
       "      <td>AMD</td>\n",
       "    </tr>\n",
       "    <tr>\n",
       "      <th>7</th>\n",
       "      <td>800000000007</td>\n",
       "      <td>Embedded 2</td>\n",
       "      <td>AMD</td>\n",
       "    </tr>\n",
       "    <tr>\n",
       "      <th>8</th>\n",
       "      <td>800000000008</td>\n",
       "      <td>Trainer 1</td>\n",
       "      <td>Bicycle</td>\n",
       "    </tr>\n",
       "    <tr>\n",
       "      <th>9</th>\n",
       "      <td>800000000009</td>\n",
       "      <td>Trainer 2</td>\n",
       "      <td>Bicycle</td>\n",
       "    </tr>\n",
       "  </tbody>\n",
       "</table>\n",
       "</div>"
      ],
      "text/plain": [
       "             id            name         type\n",
       "0  800000000000       Device 1A        Intel\n",
       "1  800000000001       Device 1B        Intel\n",
       "2  800000000002  RaspberryPi 1A  RaspberryPi\n",
       "3  800000000003  RaspberryPi 2B  RaspberryPi\n",
       "4  800000000004      Compact 1A        Apple\n",
       "5  800000000005      Compact 2B        Apple\n",
       "6  800000000006      Embedded 1          AMD\n",
       "7  800000000007      Embedded 2          AMD\n",
       "8  800000000008       Trainer 1      Bicycle\n",
       "9  800000000009       Trainer 2      Bicycle"
      ]
     },
     "execution_count": 5,
     "metadata": {},
     "output_type": "execute_result"
    }
   ],
   "source": [
    "with driver.session() as session:\n",
    "    session.run(\"MATCH (a)-[b]->(c) DELETE b\")\n",
    "    session.run(\"MATCH (a) DELETE a\")\n",
    "\n",
    "devices = read_csv(\"./data/devices_stage_1.csv\")\n",
    "devices"
   ]
  },
  {
   "cell_type": "code",
   "execution_count": 6,
   "metadata": {},
   "outputs": [
    {
     "data": {
      "text/html": [
       "<div>\n",
       "<style scoped>\n",
       "    .dataframe tbody tr th:only-of-type {\n",
       "        vertical-align: middle;\n",
       "    }\n",
       "\n",
       "    .dataframe tbody tr th {\n",
       "        vertical-align: top;\n",
       "    }\n",
       "\n",
       "    .dataframe thead th {\n",
       "        text-align: right;\n",
       "    }\n",
       "</style>\n",
       "<table border=\"1\" class=\"dataframe\">\n",
       "  <thead>\n",
       "    <tr style=\"text-align: right;\">\n",
       "      <th></th>\n",
       "      <th>id</th>\n",
       "      <th>name</th>\n",
       "    </tr>\n",
       "  </thead>\n",
       "  <tbody>\n",
       "    <tr>\n",
       "      <th>0</th>\n",
       "      <td>site0001</td>\n",
       "      <td>Ostrich</td>\n",
       "    </tr>\n",
       "    <tr>\n",
       "      <th>1</th>\n",
       "      <td>site0002</td>\n",
       "      <td>Sandy Beach</td>\n",
       "    </tr>\n",
       "    <tr>\n",
       "      <th>2</th>\n",
       "      <td>site0003</td>\n",
       "      <td>London Primary</td>\n",
       "    </tr>\n",
       "    <tr>\n",
       "      <th>3</th>\n",
       "      <td>site0004</td>\n",
       "      <td>London Secondary</td>\n",
       "    </tr>\n",
       "    <tr>\n",
       "      <th>4</th>\n",
       "      <td>site0005</td>\n",
       "      <td>Mudhall</td>\n",
       "    </tr>\n",
       "    <tr>\n",
       "      <th>5</th>\n",
       "      <td>site0006</td>\n",
       "      <td>Hull</td>\n",
       "    </tr>\n",
       "  </tbody>\n",
       "</table>\n",
       "</div>"
      ],
      "text/plain": [
       "         id              name\n",
       "0  site0001           Ostrich\n",
       "1  site0002       Sandy Beach\n",
       "2  site0003    London Primary\n",
       "3  site0004  London Secondary\n",
       "4  site0005           Mudhall\n",
       "5  site0006              Hull"
      ]
     },
     "execution_count": 6,
     "metadata": {},
     "output_type": "execute_result"
    }
   ],
   "source": [
    "sites = read_csv(\"./data/sites_stage_1.csv\")\n",
    "sites"
   ]
  },
  {
   "cell_type": "code",
   "execution_count": 7,
   "metadata": {},
   "outputs": [
    {
     "data": {
      "text/html": [
       "<div>\n",
       "<style scoped>\n",
       "    .dataframe tbody tr th:only-of-type {\n",
       "        vertical-align: middle;\n",
       "    }\n",
       "\n",
       "    .dataframe tbody tr th {\n",
       "        vertical-align: top;\n",
       "    }\n",
       "\n",
       "    .dataframe thead th {\n",
       "        text-align: right;\n",
       "    }\n",
       "</style>\n",
       "<table border=\"1\" class=\"dataframe\">\n",
       "  <thead>\n",
       "    <tr style=\"text-align: right;\">\n",
       "      <th></th>\n",
       "      <th>site</th>\n",
       "      <th>device</th>\n",
       "    </tr>\n",
       "  </thead>\n",
       "  <tbody>\n",
       "    <tr>\n",
       "      <th>0</th>\n",
       "      <td>site0001</td>\n",
       "      <td>800000000000</td>\n",
       "    </tr>\n",
       "    <tr>\n",
       "      <th>1</th>\n",
       "      <td>site0002</td>\n",
       "      <td>800000000001</td>\n",
       "    </tr>\n",
       "    <tr>\n",
       "      <th>2</th>\n",
       "      <td>site0003</td>\n",
       "      <td>800000000002</td>\n",
       "    </tr>\n",
       "    <tr>\n",
       "      <th>3</th>\n",
       "      <td>site0002</td>\n",
       "      <td>800000000003</td>\n",
       "    </tr>\n",
       "    <tr>\n",
       "      <th>4</th>\n",
       "      <td>site0002</td>\n",
       "      <td>800000000004</td>\n",
       "    </tr>\n",
       "    <tr>\n",
       "      <th>5</th>\n",
       "      <td>site0004</td>\n",
       "      <td>800000000005</td>\n",
       "    </tr>\n",
       "    <tr>\n",
       "      <th>6</th>\n",
       "      <td>site0002</td>\n",
       "      <td>800000000006</td>\n",
       "    </tr>\n",
       "    <tr>\n",
       "      <th>7</th>\n",
       "      <td>site0001</td>\n",
       "      <td>800000000007</td>\n",
       "    </tr>\n",
       "    <tr>\n",
       "      <th>8</th>\n",
       "      <td>site0005</td>\n",
       "      <td>800000000008</td>\n",
       "    </tr>\n",
       "    <tr>\n",
       "      <th>9</th>\n",
       "      <td>site0006</td>\n",
       "      <td>800000000009</td>\n",
       "    </tr>\n",
       "  </tbody>\n",
       "</table>\n",
       "</div>"
      ],
      "text/plain": [
       "       site        device\n",
       "0  site0001  800000000000\n",
       "1  site0002  800000000001\n",
       "2  site0003  800000000002\n",
       "3  site0002  800000000003\n",
       "4  site0002  800000000004\n",
       "5  site0004  800000000005\n",
       "6  site0002  800000000006\n",
       "7  site0001  800000000007\n",
       "8  site0005  800000000008\n",
       "9  site0006  800000000009"
      ]
     },
     "execution_count": 7,
     "metadata": {},
     "output_type": "execute_result"
    }
   ],
   "source": [
    "relationships = read_csv(\"./data/site_devices_stage_1.csv\")\n",
    "relationships"
   ]
  },
  {
   "cell_type": "code",
   "execution_count": 8,
   "metadata": {},
   "outputs": [
    {
     "data": {
      "text/html": [
       "\n",
       "        <iframe\n",
       "            width=\"100%\"\n",
       "            height=\"400\"\n",
       "            src=\"figure/graph-4668fc70-4ef6-4716-83ab-74968c202ec4.html\"\n",
       "            frameborder=\"0\"\n",
       "            allowfullscreen\n",
       "        ></iframe>\n",
       "        "
      ],
      "text/plain": [
       "<IPython.lib.display.IFrame at 0x1149ab5b0>"
      ]
     },
     "metadata": {},
     "output_type": "display_data"
    }
   ],
   "source": [
    "def create_site(tx, site):\n",
    "    result = tx.run(\"CREATE (a:Site) \"\n",
    "                    \"SET a = $site \"\n",
    "                    \"RETURN a\", site=site)\n",
    "    return result.single()\n",
    "\n",
    "def relate_device_to_site(tx, relationship):\n",
    "    result = tx.run(\"MATCH (a: Device), (b: Site) \"\n",
    "                    \"WHERE a.id = $deviceId and b.id = $siteId \"\n",
    "                    \"CREATE (b)-[r: HAS_DEVICE]->(a)\"\n",
    "                    \"RETURN r\", deviceId=relationship['device'], siteId=relationship['site'])\n",
    "    return [ data[0] for data in result ]\n",
    "\n",
    "with driver.session() as session:\n",
    "    for device in devices.to_dict('records'):\n",
    "        session.write_transaction(create_device, device)\n",
    "    \n",
    "    for site in sites.to_dict('records'):\n",
    "        session.write_transaction(create_site, site)\n",
    "        \n",
    "    for relationship in relationships.to_dict('records'):\n",
    "        session.write_transaction(relate_device_to_site, relationship)\n",
    "    \n",
    "    display(draw(session, { 'Device': 'name', 'Site': 'name'}, True))"
   ]
  },
  {
   "cell_type": "markdown",
   "metadata": {},
   "source": [
    "Even after writing this query I'm still not sure I have the directionality of that relationship right but it still works. However if we go back to the requirement we want to be able to find all the devices for a particular site. Lets see what that query would look like if we wanted to find the devices on site0001."
   ]
  },
  {
   "cell_type": "code",
   "execution_count": 9,
   "metadata": {},
   "outputs": [
    {
     "data": {
      "text/html": [
       "<div>\n",
       "<style scoped>\n",
       "    .dataframe tbody tr th:only-of-type {\n",
       "        vertical-align: middle;\n",
       "    }\n",
       "\n",
       "    .dataframe tbody tr th {\n",
       "        vertical-align: top;\n",
       "    }\n",
       "\n",
       "    .dataframe thead th {\n",
       "        text-align: right;\n",
       "    }\n",
       "</style>\n",
       "<table border=\"1\" class=\"dataframe\">\n",
       "  <thead>\n",
       "    <tr style=\"text-align: right;\">\n",
       "      <th></th>\n",
       "      <th>id</th>\n",
       "      <th>name</th>\n",
       "      <th>type</th>\n",
       "    </tr>\n",
       "  </thead>\n",
       "  <tbody>\n",
       "    <tr>\n",
       "      <th>0</th>\n",
       "      <td>800000000007</td>\n",
       "      <td>Embedded 2</td>\n",
       "      <td>AMD</td>\n",
       "    </tr>\n",
       "    <tr>\n",
       "      <th>1</th>\n",
       "      <td>800000000000</td>\n",
       "      <td>Device 1A</td>\n",
       "      <td>Intel</td>\n",
       "    </tr>\n",
       "  </tbody>\n",
       "</table>\n",
       "</div>"
      ],
      "text/plain": [
       "             id        name   type\n",
       "0  800000000007  Embedded 2    AMD\n",
       "1  800000000000   Device 1A  Intel"
      ]
     },
     "metadata": {},
     "output_type": "display_data"
    }
   ],
   "source": [
    "def get_devices_by_site(tx, siteId):\n",
    "    devices = tx.run(\"MATCH (site: Site)-[:HAS_DEVICE]->(device: Device) \"\n",
    "                         \"WHERE site.id = $id \"\n",
    "                         \"RETURN device\", id=siteId)\n",
    "    return [ data[0] for data in devices ]\n",
    "\n",
    "with driver.session() as session:\n",
    "    result = session.read_transaction(get_devices_by_site, \"site0001\")\n",
    "    dataFrame = DataFrame.from_records(result)\n",
    "    display(dataFrame)"
   ]
  },
  {
   "cell_type": "markdown",
   "metadata": {},
   "source": [
    "I think it's worth taking a step back at this point and considering what the relationship we have just made. Unlike a relational database we have not had to alter the schema of either node (or table if you prefer). This means that relationships can be added and removed without easily as requirements change. Compared to a document store database we have not had to worry about denormalising any data or which pieces of data should go into what index for each query pattern.\n",
    "\n",
    "Also although not standard across all graph databases the Neo4j query syntax of *(site: Site)-[:HAS_DEVICE]->(device: Device)* makes it obvious that we are searching for part of the graph where a site and a device are linked by a has device relationship.\n",
    "\n",
    "To show how this model and continue to be expanded without having to make complicated migrations let move onto another of the requirements...\n",
    "\n",
    "### Requirement - See All The Devices An Organisation Is Associated With\n",
    "\n",
    "To meet this requirement we are going to have to introduce the concept of an organisation to our graph so lets get a small amount of sample data lined up for that first."
   ]
  },
  {
   "cell_type": "code",
   "execution_count": 10,
   "metadata": {},
   "outputs": [
    {
     "data": {
      "text/html": [
       "<div>\n",
       "<style scoped>\n",
       "    .dataframe tbody tr th:only-of-type {\n",
       "        vertical-align: middle;\n",
       "    }\n",
       "\n",
       "    .dataframe tbody tr th {\n",
       "        vertical-align: top;\n",
       "    }\n",
       "\n",
       "    .dataframe thead th {\n",
       "        text-align: right;\n",
       "    }\n",
       "</style>\n",
       "<table border=\"1\" class=\"dataframe\">\n",
       "  <thead>\n",
       "    <tr style=\"text-align: right;\">\n",
       "      <th></th>\n",
       "      <th>id</th>\n",
       "      <th>name</th>\n",
       "    </tr>\n",
       "  </thead>\n",
       "  <tbody>\n",
       "    <tr>\n",
       "      <th>0</th>\n",
       "      <td>kahoot</td>\n",
       "      <td>Kahoot</td>\n",
       "    </tr>\n",
       "    <tr>\n",
       "      <th>1</th>\n",
       "      <td>cyberdyne</td>\n",
       "      <td>CyberDyne</td>\n",
       "    </tr>\n",
       "    <tr>\n",
       "      <th>2</th>\n",
       "      <td>coop</td>\n",
       "      <td>The Cooperative</td>\n",
       "    </tr>\n",
       "  </tbody>\n",
       "</table>\n",
       "</div>"
      ],
      "text/plain": [
       "          id             name\n",
       "0     kahoot           Kahoot\n",
       "1  cyberdyne        CyberDyne\n",
       "2       coop  The Cooperative"
      ]
     },
     "execution_count": 10,
     "metadata": {},
     "output_type": "execute_result"
    }
   ],
   "source": [
    "organisations = read_csv(\"./data/organisations_stage_1.csv\")\n",
    "organisations"
   ]
  },
  {
   "cell_type": "code",
   "execution_count": 11,
   "metadata": {},
   "outputs": [
    {
     "data": {
      "text/html": [
       "<div>\n",
       "<style scoped>\n",
       "    .dataframe tbody tr th:only-of-type {\n",
       "        vertical-align: middle;\n",
       "    }\n",
       "\n",
       "    .dataframe tbody tr th {\n",
       "        vertical-align: top;\n",
       "    }\n",
       "\n",
       "    .dataframe thead th {\n",
       "        text-align: right;\n",
       "    }\n",
       "</style>\n",
       "<table border=\"1\" class=\"dataframe\">\n",
       "  <thead>\n",
       "    <tr style=\"text-align: right;\">\n",
       "      <th></th>\n",
       "      <th>site</th>\n",
       "      <th>organisation</th>\n",
       "    </tr>\n",
       "  </thead>\n",
       "  <tbody>\n",
       "    <tr>\n",
       "      <th>0</th>\n",
       "      <td>site0001</td>\n",
       "      <td>kahoot</td>\n",
       "    </tr>\n",
       "    <tr>\n",
       "      <th>1</th>\n",
       "      <td>site0002</td>\n",
       "      <td>cyberdyne</td>\n",
       "    </tr>\n",
       "    <tr>\n",
       "      <th>2</th>\n",
       "      <td>site0003</td>\n",
       "      <td>kahoot</td>\n",
       "    </tr>\n",
       "    <tr>\n",
       "      <th>3</th>\n",
       "      <td>site0004</td>\n",
       "      <td>cyberdyne</td>\n",
       "    </tr>\n",
       "    <tr>\n",
       "      <th>4</th>\n",
       "      <td>site0005</td>\n",
       "      <td>coop</td>\n",
       "    </tr>\n",
       "    <tr>\n",
       "      <th>5</th>\n",
       "      <td>site0006</td>\n",
       "      <td>kahoot</td>\n",
       "    </tr>\n",
       "  </tbody>\n",
       "</table>\n",
       "</div>"
      ],
      "text/plain": [
       "       site organisation\n",
       "0  site0001       kahoot\n",
       "1  site0002    cyberdyne\n",
       "2  site0003       kahoot\n",
       "3  site0004    cyberdyne\n",
       "4  site0005         coop\n",
       "5  site0006       kahoot"
      ]
     },
     "execution_count": 11,
     "metadata": {},
     "output_type": "execute_result"
    }
   ],
   "source": [
    "organisation_relationships = read_csv(\"./data/organisation_sites_stage_1.csv\")\n",
    "organisation_relationships"
   ]
  },
  {
   "cell_type": "markdown",
   "metadata": {},
   "source": [
    "Having got some sample data the next step is to put the data into our graph. As you will see from the outpuit below suddenly our information is looking a lot more graph like!"
   ]
  },
  {
   "cell_type": "code",
   "execution_count": 12,
   "metadata": {},
   "outputs": [
    {
     "data": {
      "text/html": [
       "\n",
       "        <iframe\n",
       "            width=\"100%\"\n",
       "            height=\"400\"\n",
       "            src=\"figure/graph-dc8ede69-3f1c-4efb-a370-3197b567aa9d.html\"\n",
       "            frameborder=\"0\"\n",
       "            allowfullscreen\n",
       "        ></iframe>\n",
       "        "
      ],
      "text/plain": [
       "<IPython.lib.display.IFrame at 0x1149c1ee0>"
      ]
     },
     "metadata": {},
     "output_type": "display_data"
    }
   ],
   "source": [
    "def create_organisation(tx, organisation):\n",
    "    result = tx.run(\"CREATE (a:Organisation) \"\n",
    "                    \"SET a = $organisation \"\n",
    "                    \"RETURN a\", organisation=organisation)\n",
    "    return result.single()\n",
    "\n",
    "def relate_site_to_organisation(tx, relationship):\n",
    "    result = tx.run(\"MATCH (a: Organisation), (b: Site) \"\n",
    "                    \"WHERE a.id = $organisationId and b.id = $siteId \"\n",
    "                    \"CREATE (a)-[r: HAS_SITE]->(b)\"\n",
    "                    \"RETURN r\", organisationId=relationship['organisation'], siteId=relationship['site'])\n",
    "    return [ data[0] for data in result ]\n",
    "\n",
    "with driver.session() as session:\n",
    "    for organisation in organisations.to_dict('records'):\n",
    "        session.write_transaction(create_organisation, organisation)\n",
    "            \n",
    "    for relationship in organisation_relationships.to_dict('records'):\n",
    "        session.write_transaction(relate_site_to_organisation, relationship)\n",
    "    \n",
    "    display(draw(session, { 'Device': 'name', 'Site': 'name', 'Organisation': 'name' }, True))"
   ]
  },
  {
   "cell_type": "markdown",
   "metadata": {},
   "source": [
    "Know that we have a graph with more than one degree of separation in it lets see what it is like to query it. First off lets just traverse the new has site relationship to find all the sites associated with the Kahoot organisation."
   ]
  },
  {
   "cell_type": "code",
   "execution_count": 13,
   "metadata": {},
   "outputs": [
    {
     "data": {
      "text/html": [
       "<div>\n",
       "<style scoped>\n",
       "    .dataframe tbody tr th:only-of-type {\n",
       "        vertical-align: middle;\n",
       "    }\n",
       "\n",
       "    .dataframe tbody tr th {\n",
       "        vertical-align: top;\n",
       "    }\n",
       "\n",
       "    .dataframe thead th {\n",
       "        text-align: right;\n",
       "    }\n",
       "</style>\n",
       "<table border=\"1\" class=\"dataframe\">\n",
       "  <thead>\n",
       "    <tr style=\"text-align: right;\">\n",
       "      <th></th>\n",
       "      <th>id</th>\n",
       "      <th>name</th>\n",
       "    </tr>\n",
       "  </thead>\n",
       "  <tbody>\n",
       "    <tr>\n",
       "      <th>0</th>\n",
       "      <td>site0006</td>\n",
       "      <td>Hull</td>\n",
       "    </tr>\n",
       "    <tr>\n",
       "      <th>1</th>\n",
       "      <td>site0003</td>\n",
       "      <td>London Primary</td>\n",
       "    </tr>\n",
       "    <tr>\n",
       "      <th>2</th>\n",
       "      <td>site0001</td>\n",
       "      <td>Ostrich</td>\n",
       "    </tr>\n",
       "  </tbody>\n",
       "</table>\n",
       "</div>"
      ],
      "text/plain": [
       "         id            name\n",
       "0  site0006            Hull\n",
       "1  site0003  London Primary\n",
       "2  site0001         Ostrich"
      ]
     },
     "metadata": {},
     "output_type": "display_data"
    }
   ],
   "source": [
    "with driver.session() as session:\n",
    "    result = session.run(\"MATCH (a: Organisation)-[:HAS_SITE]->(c) \"\n",
    "                \"WHERE a.id = $organisationId \"\n",
    "                \"RETURN c\", organisationId='kahoot')\n",
    "    dataFrame = DataFrame.from_records([ data[0] for data in result])\n",
    "    display(dataFrame)"
   ]
  },
  {
   "cell_type": "markdown",
   "metadata": {},
   "source": [
    "Now that we now that is working lets extend the match query to include two relationship. If you look at the code below you will see that the structure of the query is much the same as before. One thing you might notice is that there is simply a pair empty brackets where the site should be. That is becuase we do not want to extract the site information. In this case those empty brackets will match any node that has an incoming has site relationship and an outgoing has device relationship."
   ]
  },
  {
   "cell_type": "code",
   "execution_count": 14,
   "metadata": {},
   "outputs": [
    {
     "data": {
      "text/html": [
       "<div>\n",
       "<style scoped>\n",
       "    .dataframe tbody tr th:only-of-type {\n",
       "        vertical-align: middle;\n",
       "    }\n",
       "\n",
       "    .dataframe tbody tr th {\n",
       "        vertical-align: top;\n",
       "    }\n",
       "\n",
       "    .dataframe thead th {\n",
       "        text-align: right;\n",
       "    }\n",
       "</style>\n",
       "<table border=\"1\" class=\"dataframe\">\n",
       "  <thead>\n",
       "    <tr style=\"text-align: right;\">\n",
       "      <th></th>\n",
       "      <th>id</th>\n",
       "      <th>name</th>\n",
       "      <th>type</th>\n",
       "    </tr>\n",
       "  </thead>\n",
       "  <tbody>\n",
       "    <tr>\n",
       "      <th>0</th>\n",
       "      <td>800000000009</td>\n",
       "      <td>Trainer 2</td>\n",
       "      <td>Bicycle</td>\n",
       "    </tr>\n",
       "    <tr>\n",
       "      <th>1</th>\n",
       "      <td>800000000002</td>\n",
       "      <td>RaspberryPi 1A</td>\n",
       "      <td>RaspberryPi</td>\n",
       "    </tr>\n",
       "    <tr>\n",
       "      <th>2</th>\n",
       "      <td>800000000007</td>\n",
       "      <td>Embedded 2</td>\n",
       "      <td>AMD</td>\n",
       "    </tr>\n",
       "    <tr>\n",
       "      <th>3</th>\n",
       "      <td>800000000000</td>\n",
       "      <td>Device 1A</td>\n",
       "      <td>Intel</td>\n",
       "    </tr>\n",
       "  </tbody>\n",
       "</table>\n",
       "</div>"
      ],
      "text/plain": [
       "             id            name         type\n",
       "0  800000000009       Trainer 2      Bicycle\n",
       "1  800000000002  RaspberryPi 1A  RaspberryPi\n",
       "2  800000000007      Embedded 2          AMD\n",
       "3  800000000000       Device 1A        Intel"
      ]
     },
     "metadata": {},
     "output_type": "display_data"
    }
   ],
   "source": [
    "with driver.session() as session:\n",
    "    result = session.run(\"MATCH (a: Organisation)-[:HAS_SITE]->()-[:HAS_DEVICE]->(c) \"\n",
    "                \"WHERE a.id = $organisationId \"\n",
    "                \"RETURN c\", organisationId='kahoot')\n",
    "    dataFrame = DataFrame.from_records([ data['c'] for data in result])\n",
    "    display(dataFrame)"
   ]
  },
  {
   "cell_type": "markdown",
   "metadata": {},
   "source": [
    "Whoops... we have forgotten that there are two types of organisation to site relationship that we need to manage. An organisation can own a site, manage it or both! We will need to change our model to reflect this.\n",
    "\n",
    "There are two ways in which we could achieve this. We could either add a property to the relationship between the nodes to specify the type of relationship or have two different relationships. In this case it will probably be easier to have two different relationships so lets look at changing the current has site relationship to owns site and then adding a separate manages site relationship."
   ]
  },
  {
   "cell_type": "code",
   "execution_count": 15,
   "metadata": {},
   "outputs": [
    {
     "data": {
      "text/html": [
       "\n",
       "        <iframe\n",
       "            width=\"100%\"\n",
       "            height=\"400\"\n",
       "            src=\"figure/graph-5e3d7b97-9b85-450a-bfcd-675b9a390e78.html\"\n",
       "            frameborder=\"0\"\n",
       "            allowfullscreen\n",
       "        ></iframe>\n",
       "        "
      ],
      "text/plain": [
       "<IPython.lib.display.IFrame at 0x1149a8940>"
      ]
     },
     "metadata": {},
     "output_type": "display_data"
    }
   ],
   "source": [
    "with driver.session() as session:\n",
    "    session.run(\"MATCH (a: Organisation)-[rel:HAS_SITE]->(b: Site) \"\n",
    "                \"MERGE (a)-[:OWNS_SITE]->(b) \"\n",
    "                \"DELETE rel\")\n",
    "    display(draw(session, { 'Device': 'name', 'Site': 'name', 'Organisation': 'name' }, True))"
   ]
  },
  {
   "cell_type": "markdown",
   "metadata": {},
   "source": [
    "Well that was easy! Having changed that relationship we must now load the data for the new relationship and insert it into the graph."
   ]
  },
  {
   "cell_type": "code",
   "execution_count": 16,
   "metadata": {},
   "outputs": [
    {
     "data": {
      "text/html": [
       "<div>\n",
       "<style scoped>\n",
       "    .dataframe tbody tr th:only-of-type {\n",
       "        vertical-align: middle;\n",
       "    }\n",
       "\n",
       "    .dataframe tbody tr th {\n",
       "        vertical-align: top;\n",
       "    }\n",
       "\n",
       "    .dataframe thead th {\n",
       "        text-align: right;\n",
       "    }\n",
       "</style>\n",
       "<table border=\"1\" class=\"dataframe\">\n",
       "  <thead>\n",
       "    <tr style=\"text-align: right;\">\n",
       "      <th></th>\n",
       "      <th>site</th>\n",
       "      <th>organisation</th>\n",
       "    </tr>\n",
       "  </thead>\n",
       "  <tbody>\n",
       "    <tr>\n",
       "      <th>0</th>\n",
       "      <td>site0001</td>\n",
       "      <td>kahoot</td>\n",
       "    </tr>\n",
       "    <tr>\n",
       "      <th>1</th>\n",
       "      <td>site0002</td>\n",
       "      <td>coop</td>\n",
       "    </tr>\n",
       "    <tr>\n",
       "      <th>2</th>\n",
       "      <td>site0003</td>\n",
       "      <td>kahoot</td>\n",
       "    </tr>\n",
       "    <tr>\n",
       "      <th>3</th>\n",
       "      <td>site0004</td>\n",
       "      <td>coop</td>\n",
       "    </tr>\n",
       "    <tr>\n",
       "      <th>4</th>\n",
       "      <td>site0005</td>\n",
       "      <td>coop</td>\n",
       "    </tr>\n",
       "    <tr>\n",
       "      <th>5</th>\n",
       "      <td>site0006</td>\n",
       "      <td>kahoot</td>\n",
       "    </tr>\n",
       "  </tbody>\n",
       "</table>\n",
       "</div>"
      ],
      "text/plain": [
       "       site organisation\n",
       "0  site0001       kahoot\n",
       "1  site0002         coop\n",
       "2  site0003       kahoot\n",
       "3  site0004         coop\n",
       "4  site0005         coop\n",
       "5  site0006       kahoot"
      ]
     },
     "execution_count": 16,
     "metadata": {},
     "output_type": "execute_result"
    }
   ],
   "source": [
    "management_relationships = read_csv(\"./data/manage_sites_stage_1.csv\")\n",
    "management_relationships"
   ]
  },
  {
   "cell_type": "code",
   "execution_count": 17,
   "metadata": {},
   "outputs": [
    {
     "data": {
      "text/html": [
       "\n",
       "        <iframe\n",
       "            width=\"100%\"\n",
       "            height=\"400\"\n",
       "            src=\"figure/graph-6accbaf6-d595-4900-bedf-6c4ad5bbc05f.html\"\n",
       "            frameborder=\"0\"\n",
       "            allowfullscreen\n",
       "        ></iframe>\n",
       "        "
      ],
      "text/plain": [
       "<IPython.lib.display.IFrame at 0x1149b78b0>"
      ]
     },
     "metadata": {},
     "output_type": "display_data"
    }
   ],
   "source": [
    "def relate_site_to_management_organisation(tx, relationship):\n",
    "    result = tx.run(\"MATCH (a: Organisation), (b: Site) \"\n",
    "                    \"WHERE a.id = $organisationId and b.id = $siteId \"\n",
    "                    \"CREATE (a)-[r: MANAGES_SITE]->(b)\"\n",
    "                    \"RETURN r\", organisationId=relationship['organisation'], siteId=relationship['site'])\n",
    "    return [ data[0] for data in result ]\n",
    "\n",
    "with driver.session() as session:\n",
    "    for relationship in management_relationships.to_dict('records'):\n",
    "        session.write_transaction(relate_site_to_management_organisation, relationship)\n",
    "    \n",
    "    display(draw(session, { 'Device': 'name', 'Site': 'name', 'Organisation': 'name' }, True))"
   ]
  },
  {
   "cell_type": "markdown",
   "metadata": {},
   "source": [
    "Our graph is definitely getting a little more complicated but before continuing lets make sure we can still find all the sites associated to a particular organisation as that was one of our requirements."
   ]
  },
  {
   "cell_type": "code",
   "execution_count": 18,
   "metadata": {},
   "outputs": [
    {
     "data": {
      "text/html": [
       "<div>\n",
       "<style scoped>\n",
       "    .dataframe tbody tr th:only-of-type {\n",
       "        vertical-align: middle;\n",
       "    }\n",
       "\n",
       "    .dataframe tbody tr th {\n",
       "        vertical-align: top;\n",
       "    }\n",
       "\n",
       "    .dataframe thead th {\n",
       "        text-align: right;\n",
       "    }\n",
       "</style>\n",
       "<table border=\"1\" class=\"dataframe\">\n",
       "  <thead>\n",
       "    <tr style=\"text-align: right;\">\n",
       "      <th></th>\n",
       "      <th>id</th>\n",
       "      <th>name</th>\n",
       "      <th>type</th>\n",
       "    </tr>\n",
       "  </thead>\n",
       "  <tbody>\n",
       "    <tr>\n",
       "      <th>0</th>\n",
       "      <td>800000000009</td>\n",
       "      <td>Trainer 2</td>\n",
       "      <td>Bicycle</td>\n",
       "    </tr>\n",
       "    <tr>\n",
       "      <th>1</th>\n",
       "      <td>800000000002</td>\n",
       "      <td>RaspberryPi 1A</td>\n",
       "      <td>RaspberryPi</td>\n",
       "    </tr>\n",
       "    <tr>\n",
       "      <th>2</th>\n",
       "      <td>800000000007</td>\n",
       "      <td>Embedded 2</td>\n",
       "      <td>AMD</td>\n",
       "    </tr>\n",
       "    <tr>\n",
       "      <th>3</th>\n",
       "      <td>800000000000</td>\n",
       "      <td>Device 1A</td>\n",
       "      <td>Intel</td>\n",
       "    </tr>\n",
       "    <tr>\n",
       "      <th>4</th>\n",
       "      <td>800000000007</td>\n",
       "      <td>Embedded 2</td>\n",
       "      <td>AMD</td>\n",
       "    </tr>\n",
       "    <tr>\n",
       "      <th>5</th>\n",
       "      <td>800000000000</td>\n",
       "      <td>Device 1A</td>\n",
       "      <td>Intel</td>\n",
       "    </tr>\n",
       "    <tr>\n",
       "      <th>6</th>\n",
       "      <td>800000000009</td>\n",
       "      <td>Trainer 2</td>\n",
       "      <td>Bicycle</td>\n",
       "    </tr>\n",
       "    <tr>\n",
       "      <th>7</th>\n",
       "      <td>800000000002</td>\n",
       "      <td>RaspberryPi 1A</td>\n",
       "      <td>RaspberryPi</td>\n",
       "    </tr>\n",
       "  </tbody>\n",
       "</table>\n",
       "</div>"
      ],
      "text/plain": [
       "             id            name         type\n",
       "0  800000000009       Trainer 2      Bicycle\n",
       "1  800000000002  RaspberryPi 1A  RaspberryPi\n",
       "2  800000000007      Embedded 2          AMD\n",
       "3  800000000000       Device 1A        Intel\n",
       "4  800000000007      Embedded 2          AMD\n",
       "5  800000000000       Device 1A        Intel\n",
       "6  800000000009       Trainer 2      Bicycle\n",
       "7  800000000002  RaspberryPi 1A  RaspberryPi"
      ]
     },
     "metadata": {},
     "output_type": "display_data"
    }
   ],
   "source": [
    "with driver.session() as session:\n",
    "    result = session.run(\"MATCH (a: Organisation)-[:OWNS_SITE | MANAGES_SITE]->()-[:HAS_DEVICE]->(c) \"\n",
    "                \"WHERE a.id = $organisationId \"\n",
    "                \"RETURN c\", organisationId='kahoot')\n",
    "    dataFrame = DataFrame.from_records([ data['c'] for data in result])\n",
    "    display(dataFrame)"
   ]
  },
  {
   "cell_type": "markdown",
   "metadata": {},
   "source": [
    "Ok... that's not right. If you look carefully at the results you can see that they are correct but they are duplicated. This is because ther are now two paths that we can traverse between the organisation and the devices. We need to fix this by asking for the unique results, distinct in Neo4j terms."
   ]
  },
  {
   "cell_type": "code",
   "execution_count": 19,
   "metadata": {},
   "outputs": [
    {
     "data": {
      "text/html": [
       "<div>\n",
       "<style scoped>\n",
       "    .dataframe tbody tr th:only-of-type {\n",
       "        vertical-align: middle;\n",
       "    }\n",
       "\n",
       "    .dataframe tbody tr th {\n",
       "        vertical-align: top;\n",
       "    }\n",
       "\n",
       "    .dataframe thead th {\n",
       "        text-align: right;\n",
       "    }\n",
       "</style>\n",
       "<table border=\"1\" class=\"dataframe\">\n",
       "  <thead>\n",
       "    <tr style=\"text-align: right;\">\n",
       "      <th></th>\n",
       "      <th>id</th>\n",
       "      <th>name</th>\n",
       "      <th>type</th>\n",
       "    </tr>\n",
       "  </thead>\n",
       "  <tbody>\n",
       "    <tr>\n",
       "      <th>0</th>\n",
       "      <td>800000000009</td>\n",
       "      <td>Trainer 2</td>\n",
       "      <td>Bicycle</td>\n",
       "    </tr>\n",
       "    <tr>\n",
       "      <th>1</th>\n",
       "      <td>800000000002</td>\n",
       "      <td>RaspberryPi 1A</td>\n",
       "      <td>RaspberryPi</td>\n",
       "    </tr>\n",
       "    <tr>\n",
       "      <th>2</th>\n",
       "      <td>800000000007</td>\n",
       "      <td>Embedded 2</td>\n",
       "      <td>AMD</td>\n",
       "    </tr>\n",
       "    <tr>\n",
       "      <th>3</th>\n",
       "      <td>800000000000</td>\n",
       "      <td>Device 1A</td>\n",
       "      <td>Intel</td>\n",
       "    </tr>\n",
       "  </tbody>\n",
       "</table>\n",
       "</div>"
      ],
      "text/plain": [
       "             id            name         type\n",
       "0  800000000009       Trainer 2      Bicycle\n",
       "1  800000000002  RaspberryPi 1A  RaspberryPi\n",
       "2  800000000007      Embedded 2          AMD\n",
       "3  800000000000       Device 1A        Intel"
      ]
     },
     "metadata": {},
     "output_type": "display_data"
    }
   ],
   "source": [
    "with driver.session() as session:\n",
    "    result = session.run(\"MATCH (a: Organisation)-[:OWNS_SITE | MANAGES_SITE]->()-[:HAS_DEVICE]->(c) \"\n",
    "                \"WHERE a.id = $organisationId \"\n",
    "                \"RETURN DISTINCT c\", organisationId='kahoot')\n",
    "    dataFrame = DataFrame.from_records([ data['c'] for data in result])\n",
    "    display(dataFrame)"
   ]
  },
  {
   "cell_type": "markdown",
   "metadata": {},
   "source": [
    "### Requirement - Find Devices with a Particular Status\n",
    "\n",
    "It probably hasn't escaped your notice that there isn't a status field on any of the devices. Well the cool thing is that the nodes are schemaless so I can just add one although there is a different approach we might consider. You can add additional labels to categorise nodes in different ways.\n",
    "\n",
    "For our example we are going to label all the nodes owned by cyberdyne as ACTIVE. We can then run a query to find all the ACTIVE nodes in the graph. Note you could do this in one operation but I just want to prove the query by label works."
   ]
  },
  {
   "cell_type": "code",
   "execution_count": 20,
   "metadata": {},
   "outputs": [
    {
     "data": {
      "text/html": [
       "<div>\n",
       "<style scoped>\n",
       "    .dataframe tbody tr th:only-of-type {\n",
       "        vertical-align: middle;\n",
       "    }\n",
       "\n",
       "    .dataframe tbody tr th {\n",
       "        vertical-align: top;\n",
       "    }\n",
       "\n",
       "    .dataframe thead th {\n",
       "        text-align: right;\n",
       "    }\n",
       "</style>\n",
       "<table border=\"1\" class=\"dataframe\">\n",
       "  <thead>\n",
       "    <tr style=\"text-align: right;\">\n",
       "      <th></th>\n",
       "      <th>id</th>\n",
       "      <th>name</th>\n",
       "      <th>type</th>\n",
       "    </tr>\n",
       "  </thead>\n",
       "  <tbody>\n",
       "    <tr>\n",
       "      <th>0</th>\n",
       "      <td>800000000001</td>\n",
       "      <td>Device 1B</td>\n",
       "      <td>Intel</td>\n",
       "    </tr>\n",
       "    <tr>\n",
       "      <th>1</th>\n",
       "      <td>800000000003</td>\n",
       "      <td>RaspberryPi 2B</td>\n",
       "      <td>RaspberryPi</td>\n",
       "    </tr>\n",
       "    <tr>\n",
       "      <th>2</th>\n",
       "      <td>800000000004</td>\n",
       "      <td>Compact 1A</td>\n",
       "      <td>Apple</td>\n",
       "    </tr>\n",
       "    <tr>\n",
       "      <th>3</th>\n",
       "      <td>800000000005</td>\n",
       "      <td>Compact 2B</td>\n",
       "      <td>Apple</td>\n",
       "    </tr>\n",
       "    <tr>\n",
       "      <th>4</th>\n",
       "      <td>800000000006</td>\n",
       "      <td>Embedded 1</td>\n",
       "      <td>AMD</td>\n",
       "    </tr>\n",
       "  </tbody>\n",
       "</table>\n",
       "</div>"
      ],
      "text/plain": [
       "             id            name         type\n",
       "0  800000000001       Device 1B        Intel\n",
       "1  800000000003  RaspberryPi 2B  RaspberryPi\n",
       "2  800000000004      Compact 1A        Apple\n",
       "3  800000000005      Compact 2B        Apple\n",
       "4  800000000006      Embedded 1          AMD"
      ]
     },
     "metadata": {},
     "output_type": "display_data"
    }
   ],
   "source": [
    "with driver.session() as session:\n",
    "    session.run(\"MATCH (a: Organisation)-[:OWNS_SITE]->()-[:HAS_DEVICE]->(b) \"\n",
    "                \"WHERE a.id = $organisationId \"\n",
    "                \"SET b:ACTIVE \"\n",
    "                \"RETURN b\", organisationId='cyberdyne')\n",
    "    \n",
    "    result = session.run(\"MATCH (a: ACTIVE) \"\n",
    "                \"RETURN a\");\n",
    "    \n",
    "    dataFrame = DataFrame.from_records([ data['a'] for data in result])\n",
    "    display(dataFrame)"
   ]
  },
  {
   "cell_type": "markdown",
   "metadata": {},
   "source": [
    "So labels are good for when we just want to categorise things and be able to find them quickly. However sometimes you just want to search by a property and that ok too! In fact that's exactly what we are going to do for our last requirement.\n",
    "\n",
    "### Requirement - Find Device with a Particular Type\n",
    "Interestingly if you have been paying attention you might have noticed that we have already done searches where we have filtered by a property - specifically we did this when searching for organisations by name using the where clause. However for this search we are going to use a flightly different format."
   ]
  },
  {
   "cell_type": "code",
   "execution_count": 21,
   "metadata": {},
   "outputs": [
    {
     "data": {
      "text/html": [
       "<div>\n",
       "<style scoped>\n",
       "    .dataframe tbody tr th:only-of-type {\n",
       "        vertical-align: middle;\n",
       "    }\n",
       "\n",
       "    .dataframe tbody tr th {\n",
       "        vertical-align: top;\n",
       "    }\n",
       "\n",
       "    .dataframe thead th {\n",
       "        text-align: right;\n",
       "    }\n",
       "</style>\n",
       "<table border=\"1\" class=\"dataframe\">\n",
       "  <thead>\n",
       "    <tr style=\"text-align: right;\">\n",
       "      <th></th>\n",
       "      <th>id</th>\n",
       "      <th>name</th>\n",
       "      <th>type</th>\n",
       "    </tr>\n",
       "  </thead>\n",
       "  <tbody>\n",
       "    <tr>\n",
       "      <th>0</th>\n",
       "      <td>800000000000</td>\n",
       "      <td>Device 1A</td>\n",
       "      <td>Intel</td>\n",
       "    </tr>\n",
       "    <tr>\n",
       "      <th>1</th>\n",
       "      <td>800000000001</td>\n",
       "      <td>Device 1B</td>\n",
       "      <td>Intel</td>\n",
       "    </tr>\n",
       "  </tbody>\n",
       "</table>\n",
       "</div>"
      ],
      "text/plain": [
       "             id       name   type\n",
       "0  800000000000  Device 1A  Intel\n",
       "1  800000000001  Device 1B  Intel"
      ]
     },
     "metadata": {},
     "output_type": "display_data"
    }
   ],
   "source": [
    "with driver.session() as session:\n",
    "    result = session.run(\"MATCH (a: Device{ type: 'Intel' }) \"\n",
    "                \"RETURN a\");\n",
    "    \n",
    "    dataFrame = DataFrame.from_records([ data['a'] for data in result])\n",
    "    display(dataFrame)"
   ]
  },
  {
   "cell_type": "markdown",
   "metadata": {},
   "source": [
    "As you can see from the query we ask Neo4j to find all the nodes with the label Device and a type property with a value of Intel... simple!"
   ]
  },
  {
   "cell_type": "markdown",
   "metadata": {},
   "source": [
    "## Summary\n",
    "I hope this quick overview of the capabilities of a graph database has piqued your interest. It does seem that for some models it provides a much more natural expression and it is something we should be considering whenever we are looking at creating new data stores.\n",
    "\n",
    "I hope to add more examples to this document over time so if there are other requirements you want to suggest then please get in touch.\n",
    "\n",
    "That only leaves one more thing to do, close the driver and free the system resources!"
   ]
  },
  {
   "cell_type": "code",
   "execution_count": 22,
   "metadata": {},
   "outputs": [],
   "source": [
    "driver.close()"
   ]
  },
  {
   "cell_type": "code",
   "execution_count": null,
   "metadata": {},
   "outputs": [],
   "source": []
  }
 ],
 "metadata": {
  "kernelspec": {
   "display_name": "Python 3",
   "language": "python",
   "name": "python3"
  },
  "language_info": {
   "codemirror_mode": {
    "name": "ipython",
    "version": 3
   },
   "file_extension": ".py",
   "mimetype": "text/x-python",
   "name": "python",
   "nbconvert_exporter": "python",
   "pygments_lexer": "ipython3",
   "version": "3.8.2"
  }
 },
 "nbformat": 4,
 "nbformat_minor": 4
}
